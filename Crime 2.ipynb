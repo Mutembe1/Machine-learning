{
  "nbformat": 4,
  "nbformat_minor": 0,
  "metadata": {
    "colab": {
      "provenance": [],
      "toc_visible": true
    },
    "kernelspec": {
      "name": "python3",
      "display_name": "Python 3"
    },
    "language_info": {
      "name": "python"
    }
  },
  "cells": [
    {
      "cell_type": "code",
      "execution_count": 1,
      "metadata": {
        "id": "sf-Xy2hRTNRs",
        "colab": {
          "base_uri": "https://localhost:8080/"
        },
        "outputId": "c3f19b42-d975-4652-e2c3-85d84bbb7cf5"
      },
      "outputs": [
        {
          "output_type": "stream",
          "name": "stdout",
          "text": [
            "    ViolentCrime  Murder  Rape  Robbery  AggravatedAssault PropertyCrime  \\\n",
            "0          412.5     5.3  56.0     78.4              272.8      3,609.00   \n",
            "1          238.4     5.1  38.2     75.2              119.8      2,552.40   \n",
            "2          667.9     7.8  30.4    157.9              471.8      3,894.10   \n",
            "3          114.3     2.5  28.2     20.7               63.0      3,208.40   \n",
            "4          792.6     6.1  63.8    206.7              516.0      4,607.80   \n",
            "..           ...     ...   ...      ...                ...           ...   \n",
            "373        251.6    11.4   6.3     74.6              159.3         823.2   \n",
            "374        237.5    11.5   5.2     82.3              138.6      1,320.00   \n",
            "375        231.4    18.0   5.0     66.2              142.2           885   \n",
            "376         92.1     5.4   4.6     16.1               66.0           420   \n",
            "377          262    20.6   4.9    157.8               78.7      1,281.20   \n",
            "\n",
            "     Burglary     Theft  MotorVehicleTheft  \\\n",
            "0         852  2,493.60              263.4   \n",
            "1       575.3  1,853.00              124.1   \n",
            "2    1,099.60  2,652.80              141.7   \n",
            "3       484.6  2,476.10              247.7   \n",
            "4       883.4  3,047.60              676.9   \n",
            "..        ...       ...                ...   \n",
            "373     265.5     531.1               26.6   \n",
            "374     377.1     861.6               81.3   \n",
            "375     214.4     632.4               38.1   \n",
            "376     168.9     226.5               24.6   \n",
            "377     281.8       835              164.3   \n",
            "\n",
            "                                            State         City  \n",
            "0                                              TX      Abilene  \n",
            "1                                              OH        Akron  \n",
            "2                                              GA       Albany  \n",
            "3                                              OR       Albany  \n",
            "4                                              NM  Albuquerque  \n",
            "..                                            ...          ...  \n",
            "373                   Guayama, Puerto Rico M.S.A.      Guayama  \n",
            "374                  Mayaguez, Puerto Rico M.S.A.     Mayaguez  \n",
            "375                     Ponce, Puerto Rico M.S.A.        Ponce  \n",
            "376                San German, Puerto Rico M.S.A.   San German  \n",
            "377  San Juan-Carolina-Caguas, Puerto Rico M.S.A.     San Juan  \n",
            "\n",
            "[378 rows x 11 columns]\n",
            "Information about the dataset\n",
            "<class 'pandas.core.frame.DataFrame'>\n",
            "RangeIndex: 378 entries, 0 to 377\n",
            "Data columns (total 11 columns):\n",
            " #   Column             Non-Null Count  Dtype  \n",
            "---  ------             --------------  -----  \n",
            " 0   ViolentCrime       377 non-null    object \n",
            " 1   Murder             378 non-null    float64\n",
            " 2   Rape               378 non-null    float64\n",
            " 3   Robbery            378 non-null    float64\n",
            " 4   AggravatedAssault  377 non-null    float64\n",
            " 5   PropertyCrime      372 non-null    object \n",
            " 6   Burglary           374 non-null    object \n",
            " 7   Theft              375 non-null    object \n",
            " 8   MotorVehicleTheft  378 non-null    float64\n",
            " 9   State              378 non-null    object \n",
            " 10  City               373 non-null    object \n",
            "dtypes: float64(5), object(6)\n",
            "memory usage: 32.6+ KB\n",
            "None\n",
            "The number of rows and columns\n",
            "(378, 11)\n"
          ]
        }
      ],
      "source": [
        "#loadin the dataset\n",
        "import pandas as pd\n",
        "de=pd.read_csv(\"/content/crime.csv\")\n",
        "print(de)\n",
        "#displayin info of the dataset\n",
        "print(\"Information about the dataset\")\n",
        "print(de.info())\n",
        "print('The number of rows and columns')\n",
        "print(de.shape)\n"
      ]
    },
    {
      "cell_type": "markdown",
      "source": [
        "Has 378 row and 11 columns"
      ],
      "metadata": {
        "id": "iwpkjHV49CaW"
      }
    },
    {
      "cell_type": "code",
      "source": [
        "print(de.head())\n",
        "print(de.tail())"
      ],
      "metadata": {
        "colab": {
          "base_uri": "https://localhost:8080/"
        },
        "id": "tE-Nx8kP9KTM",
        "outputId": "3f4b3c77-595e-4ef8-c7ed-279372089c05"
      },
      "execution_count": 35,
      "outputs": [
        {
          "output_type": "stream",
          "name": "stdout",
          "text": [
            "  ViolentCrime  Murder  Rape  Robbery  AggravatedAssault PropertyCrime  \\\n",
            "0        412.5     5.3  56.0     78.4              272.8      3,609.00   \n",
            "1        238.4     5.1  38.2     75.2              119.8      2,552.40   \n",
            "2        667.9     7.8  30.4    157.9              471.8      3,894.10   \n",
            "3        114.3     2.5  28.2     20.7               63.0      3,208.40   \n",
            "4        792.6     6.1  63.8    206.7              516.0      4,607.80   \n",
            "\n",
            "   Burglary     Theft  MotorVehicleTheft State         City  \n",
            "0       852  2,493.60              263.4    TX      Abilene  \n",
            "1     575.3  1,853.00              124.1    OH        Akron  \n",
            "2  1,099.60  2,652.80              141.7    GA       Albany  \n",
            "3     484.6  2,476.10              247.7    OR       Albany  \n",
            "4     883.4  3,047.60              676.9    NM  Albuquerque  \n",
            "    ViolentCrime  Murder  Rape  Robbery  AggravatedAssault PropertyCrime  \\\n",
            "373        251.6    11.4   6.3     74.6              159.3         823.2   \n",
            "374        237.5    11.5   5.2     82.3              138.6      1,320.00   \n",
            "375        231.4    18.0   5.0     66.2              142.2           885   \n",
            "376         92.1     5.4   4.6     16.1               66.0           420   \n",
            "377          262    20.6   4.9    157.8               78.7      1,281.20   \n",
            "\n",
            "    Burglary  Theft  MotorVehicleTheft  \\\n",
            "373    265.5  531.1               26.6   \n",
            "374    377.1  861.6               81.3   \n",
            "375    214.4  632.4               38.1   \n",
            "376    168.9  226.5               24.6   \n",
            "377    281.8    835              164.3   \n",
            "\n",
            "                                            State        City  \n",
            "373                   Guayama, Puerto Rico M.S.A.     Guayama  \n",
            "374                  Mayaguez, Puerto Rico M.S.A.    Mayaguez  \n",
            "375                     Ponce, Puerto Rico M.S.A.       Ponce  \n",
            "376                San German, Puerto Rico M.S.A.  San German  \n",
            "377  San Juan-Carolina-Caguas, Puerto Rico M.S.A.    San Juan  \n"
          ]
        }
      ]
    },
    {
      "cell_type": "markdown",
      "source": [
        "The head of the dataset asnd the tails are the same meaning the dataset was copied correctly"
      ],
      "metadata": {
        "id": "EnZllDVavUaL"
      }
    },
    {
      "cell_type": "code",
      "source": [
        "#checkin for data types\n",
        "print(\"datatypes of every column\")\n",
        "print(de.dtypes)"
      ],
      "metadata": {
        "colab": {
          "base_uri": "https://localhost:8080/"
        },
        "id": "NuWPssZ2exty",
        "outputId": "1fa91c3d-fd38-4330-b1dc-6d73e0055019"
      },
      "execution_count": null,
      "outputs": [
        {
          "output_type": "execute_result",
          "data": {
            "text/plain": [
              "ViolentCrime          object\n",
              "Murder               float64\n",
              "Rape                 float64\n",
              "Robbery              float64\n",
              "AggravatedAssault    float64\n",
              "PropertyCrime         object\n",
              "Burglary              object\n",
              "Theft                 object\n",
              "MotorVehicleTheft    float64\n",
              "State                 object\n",
              "City                  object\n",
              "dtype: object"
            ]
          },
          "metadata": {},
          "execution_count": 6
        }
      ]
    },
    {
      "cell_type": "markdown",
      "source": [
        "the two datatypes present are object and float"
      ],
      "metadata": {
        "id": "SnzeLFflfcAx"
      }
    },
    {
      "cell_type": "markdown",
      "source": [
        "# Data cleaning\n"
      ],
      "metadata": {
        "id": "__xc1IuzTy-8"
      }
    },
    {
      "cell_type": "code",
      "source": [
        "#number of duplicates\n",
        "print(\"number of duplicates\")\n",
        "de.duplicated().sum()\n"
      ],
      "metadata": {
        "colab": {
          "base_uri": "https://localhost:8080/"
        },
        "id": "H9mLB34Ucjoy",
        "outputId": "0f2d763a-1c6d-4596-bc61-0829e81e5026"
      },
      "execution_count": 2,
      "outputs": [
        {
          "output_type": "stream",
          "name": "stdout",
          "text": [
            "number of duplicates\n"
          ]
        },
        {
          "output_type": "execute_result",
          "data": {
            "text/plain": [
              "0"
            ]
          },
          "metadata": {},
          "execution_count": 2
        }
      ]
    },
    {
      "cell_type": "markdown",
      "source": [
        "There are no duplicates"
      ],
      "metadata": {
        "id": "2MgyL5uNfmlh"
      }
    },
    {
      "cell_type": "code",
      "source": [
        "#checkin for any empty fields\n",
        "print(\"Number of empty fields in each column\")\n",
        "print(de.isnull().sum())\n",
        "print(\"Number of empty fields in the whole dataset\")\n",
        "print(de.isnull().sum().sum())\n",
        "\n"
      ],
      "metadata": {
        "colab": {
          "base_uri": "https://localhost:8080/"
        },
        "id": "jBL6KJ7vlQ1Q",
        "outputId": "ad52e101-8098-47cc-9a48-4a886277f544"
      },
      "execution_count": null,
      "outputs": [
        {
          "output_type": "stream",
          "name": "stdout",
          "text": [
            "Number of empty fields in each column\n",
            "ViolentCrime         1\n",
            "Murder               0\n",
            "Rape                 0\n",
            "Robbery              0\n",
            "AggravatedAssault    1\n",
            "PropertyCrime        6\n",
            "Burglary             4\n",
            "Theft                3\n",
            "MotorVehicleTheft    0\n",
            "State                0\n",
            "City                 5\n",
            "dtype: int64\n",
            "Number of empty fields in the whole dataset\n",
            "20\n"
          ]
        }
      ]
    },
    {
      "cell_type": "markdown",
      "source": [
        "There are 20 emty fields"
      ],
      "metadata": {
        "id": "gjXR6Ve3wCWe"
      }
    },
    {
      "cell_type": "markdown",
      "source": [
        "Violent crime and aggrevated assualt have 1 missing value\n",
        "Property crime has 6 missing values\n",
        "Burglary has 4 missing valuwa\n",
        "Theft has 3 missing values\n",
        "City has 5 missing values"
      ],
      "metadata": {
        "id": "R4qn70KGBCeO"
      }
    },
    {
      "cell_type": "code",
      "source": [
        "#droppin the missin rows\n",
        "#de_clean=de.dropna()\n",
        "#de_clean#"
      ],
      "metadata": {
        "id": "gAYhpVw_CPPO"
      },
      "execution_count": null,
      "outputs": []
    },
    {
      "cell_type": "markdown",
      "source": [
        "We could have used the above code if we wanted to remove the empty fields but we will fill the empty fields using mean and mode as seen below"
      ],
      "metadata": {
        "id": "5jIOVwj-wcZd"
      }
    },
    {
      "cell_type": "code",
      "source": [
        "import numpy as np\n",
        "\n",
        "# take de as the original dataset and copying to a new dataset\n",
        "de_clean = de.copy()\n",
        "\n",
        "# Input missing values for numerical columns using the mean\n",
        "numerical_cols = de_clean.select_dtypes(include=[np.number]).columns\n",
        "for col in numerical_cols:\n",
        "    de_clean[col] = de_clean[col].fillna(de_clean[col].mean())\n",
        "\n",
        "# Input missing values for categorical columns using the mode\n",
        "categorical_cols = de_clean.select_dtypes(include=['object']).columns\n",
        "for col in categorical_cols:\n",
        "    mode_val = de_clean[col].mode()[0]\n",
        "    de_clean[col] = de_clean[col].replace('', np.nan).fillna(mode_val)\n",
        "\n",
        "# Print the clean dataset\n",
        "print(de_clean)"
      ],
      "metadata": {
        "colab": {
          "base_uri": "https://localhost:8080/"
        },
        "id": "_NxhyY0mX9Qs",
        "outputId": "d67fcc7f-206c-4cf3-ccef-35ac54bf8804"
      },
      "execution_count": 6,
      "outputs": [
        {
          "output_type": "stream",
          "name": "stdout",
          "text": [
            "    ViolentCrime  Murder  Rape  Robbery  AggravatedAssault PropertyCrime  \\\n",
            "0          412.5     5.3  56.0     78.4              272.8      3,609.00   \n",
            "1          238.4     5.1  38.2     75.2              119.8      2,552.40   \n",
            "2          667.9     7.8  30.4    157.9              471.8      3,894.10   \n",
            "3          114.3     2.5  28.2     20.7               63.0      3,208.40   \n",
            "4          792.6     6.1  63.8    206.7              516.0      4,607.80   \n",
            "..           ...     ...   ...      ...                ...           ...   \n",
            "373        251.6    11.4   6.3     74.6              159.3         823.2   \n",
            "374        237.5    11.5   5.2     82.3              138.6      1,320.00   \n",
            "375        231.4    18.0   5.0     66.2              142.2           885   \n",
            "376         92.1     5.4   4.6     16.1               66.0           420   \n",
            "377          262    20.6   4.9    157.8               78.7      1,281.20   \n",
            "\n",
            "     Burglary     Theft  MotorVehicleTheft  \\\n",
            "0         852  2,493.60              263.4   \n",
            "1       575.3  1,853.00              124.1   \n",
            "2    1,099.60  2,652.80              141.7   \n",
            "3       484.6  2,476.10              247.7   \n",
            "4       883.4  3,047.60              676.9   \n",
            "..        ...       ...                ...   \n",
            "373     265.5     531.1               26.6   \n",
            "374     377.1     861.6               81.3   \n",
            "375     214.4     632.4               38.1   \n",
            "376     168.9     226.5               24.6   \n",
            "377     281.8       835              164.3   \n",
            "\n",
            "                                            State         City  \n",
            "0                                              TX      Abilene  \n",
            "1                                              OH        Akron  \n",
            "2                                              GA       Albany  \n",
            "3                                              OR       Albany  \n",
            "4                                              NM  Albuquerque  \n",
            "..                                            ...          ...  \n",
            "373                   Guayama, Puerto Rico M.S.A.      Guayama  \n",
            "374                  Mayaguez, Puerto Rico M.S.A.     Mayaguez  \n",
            "375                     Ponce, Puerto Rico M.S.A.        Ponce  \n",
            "376                San German, Puerto Rico M.S.A.   San German  \n",
            "377  San Juan-Carolina-Caguas, Puerto Rico M.S.A.     San Juan  \n",
            "\n",
            "[378 rows x 11 columns]\n"
          ]
        }
      ]
    },
    {
      "cell_type": "markdown",
      "source": [
        "We have now filled any empty fields"
      ],
      "metadata": {
        "id": "c9EuOrexw2QP"
      }
    },
    {
      "cell_type": "code",
      "source": [
        "#checkin for missin marks in the new dataset\n",
        "\n",
        "print(\"Number of missin fields in each column\")\n",
        "print(de_clean.isnull().sum())\n",
        "print(\"Number of missin fields in the dataset\")\n",
        "print(de_clean.isnull().sum().sum())\n"
      ],
      "metadata": {
        "colab": {
          "base_uri": "https://localhost:8080/"
        },
        "id": "w-JB5MAqqZjP",
        "outputId": "7f079a7c-0c5d-4ef7-b46c-d202783c2817"
      },
      "execution_count": 7,
      "outputs": [
        {
          "output_type": "stream",
          "name": "stdout",
          "text": [
            "Number of missin fields in each column\n",
            "ViolentCrime         0\n",
            "Murder               0\n",
            "Rape                 0\n",
            "Robbery              0\n",
            "AggravatedAssault    0\n",
            "PropertyCrime        0\n",
            "Burglary             0\n",
            "Theft                0\n",
            "MotorVehicleTheft    0\n",
            "State                0\n",
            "City                 0\n",
            "dtype: int64\n",
            "Number of missin fields in the dataset\n",
            "0\n"
          ]
        }
      ]
    },
    {
      "cell_type": "markdown",
      "source": [
        "As you can see we have no epty fields in the cleaned dataset"
      ],
      "metadata": {
        "id": "lhYGbmhfw_km"
      }
    },
    {
      "cell_type": "code",
      "source": [
        "\n",
        "object_cols = de_clean.select_dtypes(include=['object']).columns\n",
        "\n",
        "# Iterating through each object-type column\n",
        "for col in object_cols:\n",
        "    try:\n",
        "        # Removing commas and converting to float\n",
        "        de_clean[col] = de_clean[col].str.replace(',', '').astype(float)\n",
        "    except ValueError:\n",
        "        # If conversion to float fails (e.g., non-numeric values), continue to the next column\n",
        "        continue\n",
        "object_cols"
      ],
      "metadata": {
        "colab": {
          "base_uri": "https://localhost:8080/"
        },
        "id": "hSNlsZUFqTHb",
        "outputId": "6eec3bbd-f083-4378-80e5-5bf10ffd886d"
      },
      "execution_count": 9,
      "outputs": [
        {
          "output_type": "execute_result",
          "data": {
            "text/plain": [
              "Index(['ViolentCrime', 'PropertyCrime', 'Burglary', 'Theft', 'State', 'City'], dtype='object')"
            ]
          },
          "metadata": {},
          "execution_count": 9
        }
      ]
    },
    {
      "cell_type": "markdown",
      "source": [
        "We convert the object columns into float and remove te commas so as to make it easier to process the data"
      ],
      "metadata": {
        "id": "MFNAOm7Kyci8"
      }
    },
    {
      "cell_type": "code",
      "source": [
        "\n",
        "numerical_columns = de_clean.select_dtypes(include=['float64']).columns\n",
        "numerical_columns"
      ],
      "metadata": {
        "colab": {
          "base_uri": "https://localhost:8080/"
        },
        "id": "z2hCMOwVFRKT",
        "outputId": "508df3b3-7582-488e-d04a-1c65a2b626e6"
      },
      "execution_count": 10,
      "outputs": [
        {
          "output_type": "execute_result",
          "data": {
            "text/plain": [
              "Index(['ViolentCrime', 'Murder', 'Rape', 'Robbery', 'AggravatedAssault',\n",
              "       'PropertyCrime', 'Burglary', 'Theft', 'MotorVehicleTheft'],\n",
              "      dtype='object')"
            ]
          },
          "metadata": {},
          "execution_count": 10
        }
      ]
    },
    {
      "cell_type": "markdown",
      "source": [
        "we are collecting the float datatypes in each column whichh is every column cause we change them into float and putting them into the variable numerical columns"
      ],
      "metadata": {
        "id": "xhPZ7_2Ny0JN"
      }
    },
    {
      "cell_type": "code",
      "source": [
        "#checking for outliers\n",
        "outliers = de_clean[numerical_columns].apply(lambda x: (x - x.mean()).abs() > 3 * x.std()).sum()\n",
        "\n",
        "\n",
        "print(\"\\nOutliers:\")\n",
        "print(outliers)"
      ],
      "metadata": {
        "colab": {
          "base_uri": "https://localhost:8080/"
        },
        "id": "XaOSIxxlsoTC",
        "outputId": "d796dbcb-51d0-49c3-8468-2e63beb01c17"
      },
      "execution_count": 21,
      "outputs": [
        {
          "output_type": "stream",
          "name": "stdout",
          "text": [
            "\n",
            "Outliers:\n",
            "ViolentCrime         5\n",
            "Murder               7\n",
            "Rape                 5\n",
            "Robbery              7\n",
            "AggravatedAssault    5\n",
            "PropertyCrime        1\n",
            "Burglary             5\n",
            "Theft                1\n",
            "MotorVehicleTheft    7\n",
            "dtype: int64\n"
          ]
        }
      ]
    },
    {
      "cell_type": "markdown",
      "source": [
        "Violent crime , rape . aggrevated assault , Burgury has 5 outliers\n",
        "Robbery and Murder and Motervehicle theft have 7 outliers\n",
        "Theft and propery crime have 1 outliers\n"
      ],
      "metadata": {
        "id": "AAOl1SxJGcKp"
      }
    },
    {
      "cell_type": "markdown",
      "source": [
        "Listing the rows with outliers which will be removed and\n",
        "removing the outliers using the zscore"
      ],
      "metadata": {
        "id": "_hyN-8tf0SG0"
      }
    },
    {
      "cell_type": "code",
      "source": [
        " #Define the z-score threshold for outlier detection\n",
        "threshold = 3\n",
        "\n",
        "# Calculate z-scores for each numerical column\n",
        "z_scores = de_clean[numerical_columns].apply(lambda x: (x - x.mean()) / x.std())\n",
        "\n",
        "# Find rows where any z-score exceeds the threshold\n",
        "outlier_rows = z_scores[(z_scores.abs() > threshold).any(axis=1)]\n",
        "print(outlier_rows)\n"
      ],
      "metadata": {
        "colab": {
          "base_uri": "https://localhost:8080/"
        },
        "id": "Y7xhN65StL3U",
        "outputId": "0b294b38-697c-41fe-ee7a-6a692f13f63e"
      },
      "execution_count": 12,
      "outputs": [
        {
          "output_type": "stream",
          "name": "stdout",
          "text": [
            "     ViolentCrime    Murder      Rape   Robbery  AggravatedAssault  \\\n",
            "4        2.362284  0.450736  1.153129  2.389850           2.003726   \n",
            "5        3.155782 -0.022126 -0.297678  0.785468           3.902547   \n",
            "9        3.724694  1.071367  6.371933  2.249050           3.102314   \n",
            "18       1.058366  0.805382 -0.466853  0.972584           1.059787   \n",
            "23       1.074920 -0.465434  3.213993 -0.311292           1.094801   \n",
            "84       2.294412 -1.352050  4.106009  0.833637           2.151080   \n",
            "94       2.963201  4.351846  0.814779  3.136462           2.455271   \n",
            "140      2.234265 -0.199450  0.122698  1.189342           2.470590   \n",
            "177      1.457322 -0.051680  1.117244  0.326015           1.638260   \n",
            "184      2.485889  0.687166  1.127497  3.618147           1.681299   \n",
            "211      3.716417  2.046644  0.563579  3.375451           3.449544   \n",
            "220      1.741502  1.544229 -0.241286  3.484757           0.923375   \n",
            "224      1.174245  0.805382 -0.579637  1.385722           1.066352   \n",
            "225      4.389620  3.110583 -0.000339  0.824373           5.397969   \n",
            "237      0.937520  3.465230  0.327759  1.672880           0.446299   \n",
            "243      3.893547  0.894044  0.722501  0.905889           4.662659   \n",
            "260      2.740271  3.021922  1.291546  5.079875           1.361059   \n",
            "263      2.093555  2.430845  0.625097  0.722479           2.331260   \n",
            "272      1.386139  1.012259  3.260132  0.685426           1.071458   \n",
            "275      0.612506  0.480289  3.249879 -0.507671           0.531647   \n",
            "290      0.434273  2.726383 -0.231033  0.933679           0.169099   \n",
            "296      0.664376  0.214305 -0.533498  2.917851          -0.202933   \n",
            "297      0.698588  0.539397 -0.605269  3.001219          -0.188344   \n",
            "298      0.861923 -0.140342 -0.338690  3.310609          -0.115396   \n",
            "305      0.198652  3.081030 -0.969253  1.483911          -0.263479   \n",
            "339      0.313979 -0.022126  0.573832  0.852163          -0.003787   \n",
            "375     -0.734453  3.967646 -1.861268 -0.213102          -0.723048   \n",
            "377     -0.565600  4.736046 -1.866395  1.483911          -1.186264   \n",
            "\n",
            "     PropertyCrime  Burglary     Theft  MotorVehicleTheft  \n",
            "4         2.434312  1.514506  1.999221           3.611148  \n",
            "5         2.382870  2.743527  2.062016           0.922586  \n",
            "9         1.725046  0.090904  2.068625           1.461488  \n",
            "18        0.999697  1.821761 -0.029850           3.068530  \n",
            "23        0.262192  0.911263  0.178363          -0.724594  \n",
            "84        1.276552  3.078951  0.681760          -0.451798  \n",
            "94        0.381529  0.723616 -0.224320           2.041272  \n",
            "140       2.634557  3.641891  2.066364           0.886164  \n",
            "177       1.955370  4.202664  1.020953           0.280364  \n",
            "184       0.236655  1.451668 -0.694320           1.922342  \n",
            "211       1.638122  2.224790  1.298396           0.567283  \n",
            "220       0.164464 -0.262287 -0.264502           2.589093  \n",
            "224       1.310192  0.830224  0.653929           3.726361  \n",
            "225       2.549843  2.797697  2.535668          -0.184206  \n",
            "237       0.497428 -0.007469  0.518600           0.821496  \n",
            "243       1.975260  1.158280  1.808056           2.259806  \n",
            "260       0.247950 -0.361528  0.373877           0.537551  \n",
            "263       1.427810  3.141355  0.695502           0.298204  \n",
            "272       3.149840  3.719030  2.220480           3.215706  \n",
            "275      -0.037745 -0.381896  0.087737           0.064804  \n",
            "290      -0.530438 -0.507572 -1.344875           3.419373  \n",
            "296       1.197608 -0.070740  0.961986           3.275171  \n",
            "297       0.904547 -0.045605  0.385532           3.921109  \n",
            "298       2.006813 -0.041272  2.247615           2.629975  \n",
            "305       0.845615  0.651244  0.670802           1.149297  \n",
            "339       2.607056  0.093505  3.545246           0.487005  \n",
            "375      -2.136323 -1.384701 -2.201903          -1.137132  \n",
            "377      -1.649892 -1.092613 -1.849490          -0.199072  \n"
          ]
        }
      ]
    },
    {
      "cell_type": "markdown",
      "source": [
        "Droppin the outlier rows"
      ],
      "metadata": {
        "id": "eS8dLltl0zJw"
      }
    },
    {
      "cell_type": "code",
      "source": [
        "de_filtered=de_clean.drop(outlier_rows.index)\n",
        "de_filtered"
      ],
      "metadata": {
        "colab": {
          "base_uri": "https://localhost:8080/",
          "height": 580
        },
        "id": "8Uugc537IECj",
        "outputId": "12683d21-7a78-4982-823c-68cc8442ba52"
      },
      "execution_count": 22,
      "outputs": [
        {
          "output_type": "execute_result",
          "data": {
            "text/plain": [
              "     ViolentCrime  Murder  Rape  Robbery  AggravatedAssault  PropertyCrime  \\\n",
              "0           412.5     5.3  56.0     78.4              272.8         3609.0   \n",
              "1           238.4     5.1  38.2     75.2              119.8         2552.4   \n",
              "2           667.9     7.8  30.4    157.9              471.8         3894.1   \n",
              "3           114.3     2.5  28.2     20.7               63.0         3208.4   \n",
              "6           216.5     0.8  28.7     25.5              161.6         1430.2   \n",
              "..            ...     ...   ...      ...                ...            ...   \n",
              "371         108.7     4.8   3.5     40.5               59.9          710.2   \n",
              "372          99.3     6.9   2.7     53.1               36.6         1031.9   \n",
              "373         251.6    11.4   6.3     74.6              159.3          823.2   \n",
              "374         237.5    11.5   5.2     82.3              138.6         1320.0   \n",
              "376          92.1     5.4   4.6     16.1               66.0          420.0   \n",
              "\n",
              "     Burglary   Theft  MotorVehicleTheft  \\\n",
              "0       852.0  2493.6              263.4   \n",
              "1       575.3  1853.0              124.1   \n",
              "2      1099.6  2652.8              141.7   \n",
              "3       484.6  2476.1              247.7   \n",
              "6       218.9  1163.6               47.8   \n",
              "..        ...     ...                ...   \n",
              "371     284.5   403.3               22.5   \n",
              "372     287.3   670.8               73.8   \n",
              "373     265.5   531.1               26.6   \n",
              "374     377.1   861.6               81.3   \n",
              "376     168.9   226.5               24.6   \n",
              "\n",
              "                                     State        City  \n",
              "0                                       TX     Abilene  \n",
              "1                                       OH       Akron  \n",
              "2                                       GA      Albany  \n",
              "3                                       OR      Albany  \n",
              "6                                       PA     Altoona  \n",
              "..                                     ...         ...  \n",
              "371  Aguadilla-Isabela, Puerto Rico M.S.A.   Aguadilla  \n",
              "372            Arecibo, Puerto Rico M.S.A.     Arecibo  \n",
              "373            Guayama, Puerto Rico M.S.A.     Guayama  \n",
              "374           Mayaguez, Puerto Rico M.S.A.    Mayaguez  \n",
              "376         San German, Puerto Rico M.S.A.  San German  \n",
              "\n",
              "[350 rows x 11 columns]"
            ],
            "text/html": [
              "\n",
              "  <div id=\"df-5f710d4e-1ad7-44d5-b01d-7d3ac01236f5\" class=\"colab-df-container\">\n",
              "    <div>\n",
              "<style scoped>\n",
              "    .dataframe tbody tr th:only-of-type {\n",
              "        vertical-align: middle;\n",
              "    }\n",
              "\n",
              "    .dataframe tbody tr th {\n",
              "        vertical-align: top;\n",
              "    }\n",
              "\n",
              "    .dataframe thead th {\n",
              "        text-align: right;\n",
              "    }\n",
              "</style>\n",
              "<table border=\"1\" class=\"dataframe\">\n",
              "  <thead>\n",
              "    <tr style=\"text-align: right;\">\n",
              "      <th></th>\n",
              "      <th>ViolentCrime</th>\n",
              "      <th>Murder</th>\n",
              "      <th>Rape</th>\n",
              "      <th>Robbery</th>\n",
              "      <th>AggravatedAssault</th>\n",
              "      <th>PropertyCrime</th>\n",
              "      <th>Burglary</th>\n",
              "      <th>Theft</th>\n",
              "      <th>MotorVehicleTheft</th>\n",
              "      <th>State</th>\n",
              "      <th>City</th>\n",
              "    </tr>\n",
              "  </thead>\n",
              "  <tbody>\n",
              "    <tr>\n",
              "      <th>0</th>\n",
              "      <td>412.5</td>\n",
              "      <td>5.3</td>\n",
              "      <td>56.0</td>\n",
              "      <td>78.4</td>\n",
              "      <td>272.8</td>\n",
              "      <td>3609.0</td>\n",
              "      <td>852.0</td>\n",
              "      <td>2493.6</td>\n",
              "      <td>263.4</td>\n",
              "      <td>TX</td>\n",
              "      <td>Abilene</td>\n",
              "    </tr>\n",
              "    <tr>\n",
              "      <th>1</th>\n",
              "      <td>238.4</td>\n",
              "      <td>5.1</td>\n",
              "      <td>38.2</td>\n",
              "      <td>75.2</td>\n",
              "      <td>119.8</td>\n",
              "      <td>2552.4</td>\n",
              "      <td>575.3</td>\n",
              "      <td>1853.0</td>\n",
              "      <td>124.1</td>\n",
              "      <td>OH</td>\n",
              "      <td>Akron</td>\n",
              "    </tr>\n",
              "    <tr>\n",
              "      <th>2</th>\n",
              "      <td>667.9</td>\n",
              "      <td>7.8</td>\n",
              "      <td>30.4</td>\n",
              "      <td>157.9</td>\n",
              "      <td>471.8</td>\n",
              "      <td>3894.1</td>\n",
              "      <td>1099.6</td>\n",
              "      <td>2652.8</td>\n",
              "      <td>141.7</td>\n",
              "      <td>GA</td>\n",
              "      <td>Albany</td>\n",
              "    </tr>\n",
              "    <tr>\n",
              "      <th>3</th>\n",
              "      <td>114.3</td>\n",
              "      <td>2.5</td>\n",
              "      <td>28.2</td>\n",
              "      <td>20.7</td>\n",
              "      <td>63.0</td>\n",
              "      <td>3208.4</td>\n",
              "      <td>484.6</td>\n",
              "      <td>2476.1</td>\n",
              "      <td>247.7</td>\n",
              "      <td>OR</td>\n",
              "      <td>Albany</td>\n",
              "    </tr>\n",
              "    <tr>\n",
              "      <th>6</th>\n",
              "      <td>216.5</td>\n",
              "      <td>0.8</td>\n",
              "      <td>28.7</td>\n",
              "      <td>25.5</td>\n",
              "      <td>161.6</td>\n",
              "      <td>1430.2</td>\n",
              "      <td>218.9</td>\n",
              "      <td>1163.6</td>\n",
              "      <td>47.8</td>\n",
              "      <td>PA</td>\n",
              "      <td>Altoona</td>\n",
              "    </tr>\n",
              "    <tr>\n",
              "      <th>...</th>\n",
              "      <td>...</td>\n",
              "      <td>...</td>\n",
              "      <td>...</td>\n",
              "      <td>...</td>\n",
              "      <td>...</td>\n",
              "      <td>...</td>\n",
              "      <td>...</td>\n",
              "      <td>...</td>\n",
              "      <td>...</td>\n",
              "      <td>...</td>\n",
              "      <td>...</td>\n",
              "    </tr>\n",
              "    <tr>\n",
              "      <th>371</th>\n",
              "      <td>108.7</td>\n",
              "      <td>4.8</td>\n",
              "      <td>3.5</td>\n",
              "      <td>40.5</td>\n",
              "      <td>59.9</td>\n",
              "      <td>710.2</td>\n",
              "      <td>284.5</td>\n",
              "      <td>403.3</td>\n",
              "      <td>22.5</td>\n",
              "      <td>Aguadilla-Isabela, Puerto Rico M.S.A.</td>\n",
              "      <td>Aguadilla</td>\n",
              "    </tr>\n",
              "    <tr>\n",
              "      <th>372</th>\n",
              "      <td>99.3</td>\n",
              "      <td>6.9</td>\n",
              "      <td>2.7</td>\n",
              "      <td>53.1</td>\n",
              "      <td>36.6</td>\n",
              "      <td>1031.9</td>\n",
              "      <td>287.3</td>\n",
              "      <td>670.8</td>\n",
              "      <td>73.8</td>\n",
              "      <td>Arecibo, Puerto Rico M.S.A.</td>\n",
              "      <td>Arecibo</td>\n",
              "    </tr>\n",
              "    <tr>\n",
              "      <th>373</th>\n",
              "      <td>251.6</td>\n",
              "      <td>11.4</td>\n",
              "      <td>6.3</td>\n",
              "      <td>74.6</td>\n",
              "      <td>159.3</td>\n",
              "      <td>823.2</td>\n",
              "      <td>265.5</td>\n",
              "      <td>531.1</td>\n",
              "      <td>26.6</td>\n",
              "      <td>Guayama, Puerto Rico M.S.A.</td>\n",
              "      <td>Guayama</td>\n",
              "    </tr>\n",
              "    <tr>\n",
              "      <th>374</th>\n",
              "      <td>237.5</td>\n",
              "      <td>11.5</td>\n",
              "      <td>5.2</td>\n",
              "      <td>82.3</td>\n",
              "      <td>138.6</td>\n",
              "      <td>1320.0</td>\n",
              "      <td>377.1</td>\n",
              "      <td>861.6</td>\n",
              "      <td>81.3</td>\n",
              "      <td>Mayaguez, Puerto Rico M.S.A.</td>\n",
              "      <td>Mayaguez</td>\n",
              "    </tr>\n",
              "    <tr>\n",
              "      <th>376</th>\n",
              "      <td>92.1</td>\n",
              "      <td>5.4</td>\n",
              "      <td>4.6</td>\n",
              "      <td>16.1</td>\n",
              "      <td>66.0</td>\n",
              "      <td>420.0</td>\n",
              "      <td>168.9</td>\n",
              "      <td>226.5</td>\n",
              "      <td>24.6</td>\n",
              "      <td>San German, Puerto Rico M.S.A.</td>\n",
              "      <td>San German</td>\n",
              "    </tr>\n",
              "  </tbody>\n",
              "</table>\n",
              "<p>350 rows × 11 columns</p>\n",
              "</div>\n",
              "    <div class=\"colab-df-buttons\">\n",
              "\n",
              "  <div class=\"colab-df-container\">\n",
              "    <button class=\"colab-df-convert\" onclick=\"convertToInteractive('df-5f710d4e-1ad7-44d5-b01d-7d3ac01236f5')\"\n",
              "            title=\"Convert this dataframe to an interactive table.\"\n",
              "            style=\"display:none;\">\n",
              "\n",
              "  <svg xmlns=\"http://www.w3.org/2000/svg\" height=\"24px\" viewBox=\"0 -960 960 960\">\n",
              "    <path d=\"M120-120v-720h720v720H120Zm60-500h600v-160H180v160Zm220 220h160v-160H400v160Zm0 220h160v-160H400v160ZM180-400h160v-160H180v160Zm440 0h160v-160H620v160ZM180-180h160v-160H180v160Zm440 0h160v-160H620v160Z\"/>\n",
              "  </svg>\n",
              "    </button>\n",
              "\n",
              "  <style>\n",
              "    .colab-df-container {\n",
              "      display:flex;\n",
              "      gap: 12px;\n",
              "    }\n",
              "\n",
              "    .colab-df-convert {\n",
              "      background-color: #E8F0FE;\n",
              "      border: none;\n",
              "      border-radius: 50%;\n",
              "      cursor: pointer;\n",
              "      display: none;\n",
              "      fill: #1967D2;\n",
              "      height: 32px;\n",
              "      padding: 0 0 0 0;\n",
              "      width: 32px;\n",
              "    }\n",
              "\n",
              "    .colab-df-convert:hover {\n",
              "      background-color: #E2EBFA;\n",
              "      box-shadow: 0px 1px 2px rgba(60, 64, 67, 0.3), 0px 1px 3px 1px rgba(60, 64, 67, 0.15);\n",
              "      fill: #174EA6;\n",
              "    }\n",
              "\n",
              "    .colab-df-buttons div {\n",
              "      margin-bottom: 4px;\n",
              "    }\n",
              "\n",
              "    [theme=dark] .colab-df-convert {\n",
              "      background-color: #3B4455;\n",
              "      fill: #D2E3FC;\n",
              "    }\n",
              "\n",
              "    [theme=dark] .colab-df-convert:hover {\n",
              "      background-color: #434B5C;\n",
              "      box-shadow: 0px 1px 3px 1px rgba(0, 0, 0, 0.15);\n",
              "      filter: drop-shadow(0px 1px 2px rgba(0, 0, 0, 0.3));\n",
              "      fill: #FFFFFF;\n",
              "    }\n",
              "  </style>\n",
              "\n",
              "    <script>\n",
              "      const buttonEl =\n",
              "        document.querySelector('#df-5f710d4e-1ad7-44d5-b01d-7d3ac01236f5 button.colab-df-convert');\n",
              "      buttonEl.style.display =\n",
              "        google.colab.kernel.accessAllowed ? 'block' : 'none';\n",
              "\n",
              "      async function convertToInteractive(key) {\n",
              "        const element = document.querySelector('#df-5f710d4e-1ad7-44d5-b01d-7d3ac01236f5');\n",
              "        const dataTable =\n",
              "          await google.colab.kernel.invokeFunction('convertToInteractive',\n",
              "                                                    [key], {});\n",
              "        if (!dataTable) return;\n",
              "\n",
              "        const docLinkHtml = 'Like what you see? Visit the ' +\n",
              "          '<a target=\"_blank\" href=https://colab.research.google.com/notebooks/data_table.ipynb>data table notebook</a>'\n",
              "          + ' to learn more about interactive tables.';\n",
              "        element.innerHTML = '';\n",
              "        dataTable['output_type'] = 'display_data';\n",
              "        await google.colab.output.renderOutput(dataTable, element);\n",
              "        const docLink = document.createElement('div');\n",
              "        docLink.innerHTML = docLinkHtml;\n",
              "        element.appendChild(docLink);\n",
              "      }\n",
              "    </script>\n",
              "  </div>\n",
              "\n",
              "\n",
              "<div id=\"df-5141c43b-8638-41f7-a88a-62e3ea9bc636\">\n",
              "  <button class=\"colab-df-quickchart\" onclick=\"quickchart('df-5141c43b-8638-41f7-a88a-62e3ea9bc636')\"\n",
              "            title=\"Suggest charts\"\n",
              "            style=\"display:none;\">\n",
              "\n",
              "<svg xmlns=\"http://www.w3.org/2000/svg\" height=\"24px\"viewBox=\"0 0 24 24\"\n",
              "     width=\"24px\">\n",
              "    <g>\n",
              "        <path d=\"M19 3H5c-1.1 0-2 .9-2 2v14c0 1.1.9 2 2 2h14c1.1 0 2-.9 2-2V5c0-1.1-.9-2-2-2zM9 17H7v-7h2v7zm4 0h-2V7h2v10zm4 0h-2v-4h2v4z\"/>\n",
              "    </g>\n",
              "</svg>\n",
              "  </button>\n",
              "\n",
              "<style>\n",
              "  .colab-df-quickchart {\n",
              "      --bg-color: #E8F0FE;\n",
              "      --fill-color: #1967D2;\n",
              "      --hover-bg-color: #E2EBFA;\n",
              "      --hover-fill-color: #174EA6;\n",
              "      --disabled-fill-color: #AAA;\n",
              "      --disabled-bg-color: #DDD;\n",
              "  }\n",
              "\n",
              "  [theme=dark] .colab-df-quickchart {\n",
              "      --bg-color: #3B4455;\n",
              "      --fill-color: #D2E3FC;\n",
              "      --hover-bg-color: #434B5C;\n",
              "      --hover-fill-color: #FFFFFF;\n",
              "      --disabled-bg-color: #3B4455;\n",
              "      --disabled-fill-color: #666;\n",
              "  }\n",
              "\n",
              "  .colab-df-quickchart {\n",
              "    background-color: var(--bg-color);\n",
              "    border: none;\n",
              "    border-radius: 50%;\n",
              "    cursor: pointer;\n",
              "    display: none;\n",
              "    fill: var(--fill-color);\n",
              "    height: 32px;\n",
              "    padding: 0;\n",
              "    width: 32px;\n",
              "  }\n",
              "\n",
              "  .colab-df-quickchart:hover {\n",
              "    background-color: var(--hover-bg-color);\n",
              "    box-shadow: 0 1px 2px rgba(60, 64, 67, 0.3), 0 1px 3px 1px rgba(60, 64, 67, 0.15);\n",
              "    fill: var(--button-hover-fill-color);\n",
              "  }\n",
              "\n",
              "  .colab-df-quickchart-complete:disabled,\n",
              "  .colab-df-quickchart-complete:disabled:hover {\n",
              "    background-color: var(--disabled-bg-color);\n",
              "    fill: var(--disabled-fill-color);\n",
              "    box-shadow: none;\n",
              "  }\n",
              "\n",
              "  .colab-df-spinner {\n",
              "    border: 2px solid var(--fill-color);\n",
              "    border-color: transparent;\n",
              "    border-bottom-color: var(--fill-color);\n",
              "    animation:\n",
              "      spin 1s steps(1) infinite;\n",
              "  }\n",
              "\n",
              "  @keyframes spin {\n",
              "    0% {\n",
              "      border-color: transparent;\n",
              "      border-bottom-color: var(--fill-color);\n",
              "      border-left-color: var(--fill-color);\n",
              "    }\n",
              "    20% {\n",
              "      border-color: transparent;\n",
              "      border-left-color: var(--fill-color);\n",
              "      border-top-color: var(--fill-color);\n",
              "    }\n",
              "    30% {\n",
              "      border-color: transparent;\n",
              "      border-left-color: var(--fill-color);\n",
              "      border-top-color: var(--fill-color);\n",
              "      border-right-color: var(--fill-color);\n",
              "    }\n",
              "    40% {\n",
              "      border-color: transparent;\n",
              "      border-right-color: var(--fill-color);\n",
              "      border-top-color: var(--fill-color);\n",
              "    }\n",
              "    60% {\n",
              "      border-color: transparent;\n",
              "      border-right-color: var(--fill-color);\n",
              "    }\n",
              "    80% {\n",
              "      border-color: transparent;\n",
              "      border-right-color: var(--fill-color);\n",
              "      border-bottom-color: var(--fill-color);\n",
              "    }\n",
              "    90% {\n",
              "      border-color: transparent;\n",
              "      border-bottom-color: var(--fill-color);\n",
              "    }\n",
              "  }\n",
              "</style>\n",
              "\n",
              "  <script>\n",
              "    async function quickchart(key) {\n",
              "      const quickchartButtonEl =\n",
              "        document.querySelector('#' + key + ' button');\n",
              "      quickchartButtonEl.disabled = true;  // To prevent multiple clicks.\n",
              "      quickchartButtonEl.classList.add('colab-df-spinner');\n",
              "      try {\n",
              "        const charts = await google.colab.kernel.invokeFunction(\n",
              "            'suggestCharts', [key], {});\n",
              "      } catch (error) {\n",
              "        console.error('Error during call to suggestCharts:', error);\n",
              "      }\n",
              "      quickchartButtonEl.classList.remove('colab-df-spinner');\n",
              "      quickchartButtonEl.classList.add('colab-df-quickchart-complete');\n",
              "    }\n",
              "    (() => {\n",
              "      let quickchartButtonEl =\n",
              "        document.querySelector('#df-5141c43b-8638-41f7-a88a-62e3ea9bc636 button');\n",
              "      quickchartButtonEl.style.display =\n",
              "        google.colab.kernel.accessAllowed ? 'block' : 'none';\n",
              "    })();\n",
              "  </script>\n",
              "</div>\n",
              "\n",
              "  <div id=\"id_4654893b-db6a-473d-a0de-f588a9aaee04\">\n",
              "    <style>\n",
              "      .colab-df-generate {\n",
              "        background-color: #E8F0FE;\n",
              "        border: none;\n",
              "        border-radius: 50%;\n",
              "        cursor: pointer;\n",
              "        display: none;\n",
              "        fill: #1967D2;\n",
              "        height: 32px;\n",
              "        padding: 0 0 0 0;\n",
              "        width: 32px;\n",
              "      }\n",
              "\n",
              "      .colab-df-generate:hover {\n",
              "        background-color: #E2EBFA;\n",
              "        box-shadow: 0px 1px 2px rgba(60, 64, 67, 0.3), 0px 1px 3px 1px rgba(60, 64, 67, 0.15);\n",
              "        fill: #174EA6;\n",
              "      }\n",
              "\n",
              "      [theme=dark] .colab-df-generate {\n",
              "        background-color: #3B4455;\n",
              "        fill: #D2E3FC;\n",
              "      }\n",
              "\n",
              "      [theme=dark] .colab-df-generate:hover {\n",
              "        background-color: #434B5C;\n",
              "        box-shadow: 0px 1px 3px 1px rgba(0, 0, 0, 0.15);\n",
              "        filter: drop-shadow(0px 1px 2px rgba(0, 0, 0, 0.3));\n",
              "        fill: #FFFFFF;\n",
              "      }\n",
              "    </style>\n",
              "    <button class=\"colab-df-generate\" onclick=\"generateWithVariable('de_filtered')\"\n",
              "            title=\"Generate code using this dataframe.\"\n",
              "            style=\"display:none;\">\n",
              "\n",
              "  <svg xmlns=\"http://www.w3.org/2000/svg\" height=\"24px\"viewBox=\"0 0 24 24\"\n",
              "       width=\"24px\">\n",
              "    <path d=\"M7,19H8.4L18.45,9,17,7.55,7,17.6ZM5,21V16.75L18.45,3.32a2,2,0,0,1,2.83,0l1.4,1.43a1.91,1.91,0,0,1,.58,1.4,1.91,1.91,0,0,1-.58,1.4L9.25,21ZM18.45,9,17,7.55Zm-12,3A5.31,5.31,0,0,0,4.9,8.1,5.31,5.31,0,0,0,1,6.5,5.31,5.31,0,0,0,4.9,4.9,5.31,5.31,0,0,0,6.5,1,5.31,5.31,0,0,0,8.1,4.9,5.31,5.31,0,0,0,12,6.5,5.46,5.46,0,0,0,6.5,12Z\"/>\n",
              "  </svg>\n",
              "    </button>\n",
              "    <script>\n",
              "      (() => {\n",
              "      const buttonEl =\n",
              "        document.querySelector('#id_4654893b-db6a-473d-a0de-f588a9aaee04 button.colab-df-generate');\n",
              "      buttonEl.style.display =\n",
              "        google.colab.kernel.accessAllowed ? 'block' : 'none';\n",
              "\n",
              "      buttonEl.onclick = () => {\n",
              "        google.colab.notebook.generateWithVariable('de_filtered');\n",
              "      }\n",
              "      })();\n",
              "    </script>\n",
              "  </div>\n",
              "\n",
              "    </div>\n",
              "  </div>\n"
            ],
            "application/vnd.google.colaboratory.intrinsic+json": {
              "type": "dataframe",
              "variable_name": "de_filtered",
              "summary": "{\n  \"name\": \"de_filtered\",\n  \"rows\": 350,\n  \"fields\": [\n    {\n      \"column\": \"ViolentCrime\",\n      \"properties\": {\n        \"dtype\": \"number\",\n        \"std\": 150.5892080411777,\n        \"min\": 61.6,\n        \"max\": 825.4,\n        \"num_unique_values\": 340,\n        \"samples\": [\n          406.2,\n          582.9,\n          288.0\n        ],\n        \"semantic_type\": \"\",\n        \"description\": \"\"\n      }\n    },\n    {\n      \"column\": \"Murder\",\n      \"properties\": {\n        \"dtype\": \"number\",\n        \"std\": 2.850352815843172,\n        \"min\": 0.0,\n        \"max\": 14.2,\n        \"num_unique_values\": 101,\n        \"samples\": [\n          3.5,\n          8.9,\n          8.3\n        ],\n        \"semantic_type\": \"\",\n        \"description\": \"\"\n      }\n    },\n    {\n      \"column\": \"Rape\",\n      \"properties\": {\n        \"dtype\": \"number\",\n        \"std\": 17.14226028262366,\n        \"min\": 2.7,\n        \"max\": 91.9,\n        \"num_unique_values\": 255,\n        \"samples\": [\n          60.0,\n          47.2,\n          38.1\n        ],\n        \"semantic_type\": \"\",\n        \"description\": \"\"\n      }\n    },\n    {\n      \"column\": \"Robbery\",\n      \"properties\": {\n        \"dtype\": \"number\",\n        \"std\": 44.936831504970385,\n        \"min\": 2.3,\n        \"max\": 239.0,\n        \"num_unique_values\": 313,\n        \"samples\": [\n          26.6,\n          8.6,\n          68.4\n        ],\n        \"semantic_type\": \"\",\n        \"description\": \"\"\n      }\n    },\n    {\n      \"column\": \"AggravatedAssault\",\n      \"properties\": {\n        \"dtype\": \"number\",\n        \"std\": 114.41135431059652,\n        \"min\": 25.5,\n        \"max\": 605.2,\n        \"num_unique_values\": 327,\n        \"samples\": [\n          167.6,\n          128.8,\n          445.6\n        ],\n        \"semantic_type\": \"\",\n        \"description\": \"\"\n      }\n    },\n    {\n      \"column\": \"PropertyCrime\",\n      \"properties\": {\n        \"dtype\": \"number\",\n        \"std\": 752.195454831017,\n        \"min\": 420.0,\n        \"max\": 4745.0,\n        \"num_unique_values\": 342,\n        \"samples\": [\n          2022.5,\n          2790.5,\n          2328.3\n        ],\n        \"semantic_type\": \"\",\n        \"description\": \"\"\n      }\n    },\n    {\n      \"column\": \"Burglary\",\n      \"properties\": {\n        \"dtype\": \"number\",\n        \"std\": 204.69914047352938,\n        \"min\": 159.7,\n        \"max\": 1151.7,\n        \"num_unique_values\": 339,\n        \"samples\": [\n          922.7,\n          243.8,\n          878.5\n        ],\n        \"semantic_type\": \"\",\n        \"description\": \"\"\n      }\n    },\n    {\n      \"column\": \"Theft\",\n      \"properties\": {\n        \"dtype\": \"number\",\n        \"std\": 541.7138475558189,\n        \"min\": 226.5,\n        \"max\": 3574.9,\n        \"num_unique_values\": 342,\n        \"samples\": [\n          2024.8,\n          1655.6,\n          1328.8\n        ],\n        \"semantic_type\": \"\",\n        \"description\": \"\"\n      }\n    },\n    {\n      \"column\": \"MotorVehicleTheft\",\n      \"properties\": {\n        \"dtype\": \"number\",\n        \"std\": 114.40309289855955,\n        \"min\": 15.7,\n        \"max\": 565.2,\n        \"num_unique_values\": 332,\n        \"samples\": [\n          52.5,\n          72.7,\n          104.0\n        ],\n        \"semantic_type\": \"\",\n        \"description\": \"\"\n      }\n    },\n    {\n      \"column\": \"State\",\n      \"properties\": {\n        \"dtype\": \"category\",\n        \"num_unique_values\": 56,\n        \"samples\": [\n          \"TX\",\n          \"IA\",\n          \"TN\"\n        ],\n        \"semantic_type\": \"\",\n        \"description\": \"\"\n      }\n    },\n    {\n      \"column\": \"City\",\n      \"properties\": {\n        \"dtype\": \"string\",\n        \"num_unique_values\": 317,\n        \"samples\": [\n          \"Decatur\",\n          \"Toledo\",\n          \"Birmingham\"\n        ],\n        \"semantic_type\": \"\",\n        \"description\": \"\"\n      }\n    }\n  ]\n}"
            }
          },
          "metadata": {},
          "execution_count": 22
        }
      ]
    },
    {
      "cell_type": "code",
      "source": [
        "#summary of the dataset\n",
        "print(\"Summary of the dataset \")\n",
        "print(de_filtered.describe())"
      ],
      "metadata": {
        "colab": {
          "base_uri": "https://localhost:8080/"
        },
        "id": "YFcPGA3YIjcX",
        "outputId": "acfba020-c7e5-41d3-e987-c343e7a2ef62"
      },
      "execution_count": 14,
      "outputs": [
        {
          "output_type": "stream",
          "name": "stdout",
          "text": [
            "Summary of the dataset \n",
            "       ViolentCrime      Murder        Rape     Robbery  AggravatedAssault  \\\n",
            "count    350.000000  350.000000  350.000000  350.000000         350.000000   \n",
            "mean     339.973429    4.196000   40.155714   70.517714         225.539769   \n",
            "std      150.589208    2.850353   17.142260   44.936832         114.411354   \n",
            "min       61.600000    0.000000    2.700000    2.300000          25.500000   \n",
            "25%      231.875000    2.100000   28.425000   35.125000         138.850000   \n",
            "50%      324.850000    3.600000   37.350000   64.000000         211.050000   \n",
            "75%      427.150000    5.800000   49.650000   96.700000         293.400000   \n",
            "max      825.400000   14.200000   91.900000  239.000000         605.200000   \n",
            "\n",
            "       PropertyCrime    Burglary        Theft  MotorVehicleTheft  \n",
            "count     350.000000   350.00000   350.000000         350.000000  \n",
            "mean     2554.165429   513.72200  1862.992286         175.530000  \n",
            "std       752.195455   204.69914   541.713848         114.403093  \n",
            "min       420.000000   159.70000   226.500000          15.700000  \n",
            "25%      2009.675000   353.37500  1472.575000          90.950000  \n",
            "50%      2557.400000   495.30000  1823.100000         145.800000  \n",
            "75%      3069.125000   652.27500  2215.950000         226.550000  \n",
            "max      4745.000000  1151.70000  3574.900000         565.200000  \n"
          ]
        }
      ]
    },
    {
      "cell_type": "code",
      "source": [
        "import matplotlib.pyplot as plt\n",
        "import seaborn as sns\n",
        "import numpy as np\n",
        "\n",
        "# Unique values in categorical columns\n",
        "print(\"\\nUnique Values in Categorical Columns:\")\n",
        "for col in de_filtered.select_dtypes(include='object').columns:\n",
        "    print(f\"{col}: {de_filtered[col].nunique()} unique values\")\n",
        "    print(de_filtered[col].value_counts())\n",
        "    print()\n",
        "\n",
        "# Correlation matrix for numerical columns\n",
        "print(\"\\nCorrelation Matrix for Numerical Columns:\")\n",
        "corr_matrix = de_filtered.select_dtypes(include=np.number).corr()\n",
        "print(corr_matrix)\n",
        "\n",
        "# Correlation heatmap\n",
        "plt.figure(figsize=(10, 8))\n",
        "sns.heatmap(corr_matrix, annot=True, cmap='coolwarm', fmt=\".2f\")\n",
        "plt.title('Correlation Heatmap')\n",
        "plt.show()\n",
        "\n"
      ],
      "metadata": {
        "colab": {
          "base_uri": "https://localhost:8080/",
          "height": 1000
        },
        "id": "1p_xb37_lMXN",
        "outputId": "c7bbc852-1730-4d0e-bea6-fb1884a50f0d"
      },
      "execution_count": 15,
      "outputs": [
        {
          "output_type": "stream",
          "name": "stdout",
          "text": [
            "\n",
            "Unique Values in Categorical Columns:\n",
            "State: 56 unique values\n",
            "State\n",
            "TX                                       26\n",
            "CA                                       25\n",
            "FL                                       25\n",
            "PA                                       16\n",
            "MI                                       14\n",
            "WA                                       13\n",
            "GA                                       11\n",
            "AL                                       11\n",
            "WI                                       11\n",
            "IN                                       11\n",
            "TN                                        9\n",
            "NC                                        9\n",
            "OH                                        9\n",
            "IL                                        9\n",
            "NY                                        9\n",
            "VA                                        8\n",
            "MO                                        8\n",
            "IA                                        8\n",
            "OR                                        7\n",
            "CO                                        6\n",
            "SC                                        6\n",
            "MD                                        6\n",
            "MN                                        5\n",
            "AZ                                        5\n",
            "NJ                                        5\n",
            "ID                                        5\n",
            "KY                                        5\n",
            "UT                                        5\n",
            "WV                                        5\n",
            "OK                                        4\n",
            "MA                                        4\n",
            "LA                                        4\n",
            "AR                                        3\n",
            "NE                                        3\n",
            "KS                                        3\n",
            "MS                                        3\n",
            "MT                                        3\n",
            "ME                                        3\n",
            "CT                                        3\n",
            "ND                                        3\n",
            "DE                                        2\n",
            "DC                                        2\n",
            "NM                                        2\n",
            "WY                                        2\n",
            "NV                                        2\n",
            "HI                                        2\n",
            "Mayaguez, Puerto Rico M.S.A.              1\n",
            "Guayama, Puerto Rico M.S.A.               1\n",
            "Arecibo, Puerto Rico M.S.A.               1\n",
            "Aguadilla-Isabela, Puerto Rico M.S.A.     1\n",
            "NH                                        1\n",
            "SD                                        1\n",
            "RI                                        1\n",
            "AK                                        1\n",
            "VT                                        1\n",
            "San German, Puerto Rico M.S.A.            1\n",
            "Name: count, dtype: int64\n",
            "\n",
            "City: 317 unique values\n",
            "City\n",
            "Springfield     9\n",
            "Columbus        3\n",
            "Jackson         3\n",
            "Longview        2\n",
            "Charleston      2\n",
            "               ..\n",
            "Grand Island    1\n",
            "Grand Forks     1\n",
            "Goldsboro       1\n",
            "Glens Falls     1\n",
            "San German      1\n",
            "Name: count, Length: 317, dtype: int64\n",
            "\n",
            "\n",
            "Correlation Matrix for Numerical Columns:\n",
            "                   ViolentCrime    Murder      Rape   Robbery  \\\n",
            "ViolentCrime           1.000000  0.514914  0.377270  0.718325   \n",
            "Murder                 0.514914  1.000000 -0.040109  0.613864   \n",
            "Rape                   0.377270 -0.040109  1.000000  0.067030   \n",
            "Robbery                0.718325  0.613864  0.067030  1.000000   \n",
            "AggravatedAssault      0.960630  0.413287  0.327402  0.523248   \n",
            "PropertyCrime          0.554549  0.387666  0.298837  0.475686   \n",
            "Burglary               0.580450  0.472376  0.163494  0.497765   \n",
            "Theft                  0.464752  0.295350  0.328716  0.378794   \n",
            "MotorVehicleTheft      0.486185  0.325736  0.128174  0.502296   \n",
            "\n",
            "                   AggravatedAssault  PropertyCrime  Burglary     Theft  \\\n",
            "ViolentCrime                0.960630       0.554549  0.580450  0.464752   \n",
            "Murder                      0.413287       0.387666  0.472376  0.295350   \n",
            "Rape                        0.327402       0.298837  0.163494  0.328716   \n",
            "Robbery                     0.523248       0.475686  0.497765  0.378794   \n",
            "AggravatedAssault           1.000000       0.486467  0.528832  0.405050   \n",
            "PropertyCrime               0.486467       1.000000  0.808503  0.951088   \n",
            "Burglary                    0.528832       0.808503  1.000000  0.654213   \n",
            "Theft                       0.405050       0.951088  0.654213  1.000000   \n",
            "MotorVehicleTheft           0.413229       0.618916  0.446220  0.510815   \n",
            "\n",
            "                   MotorVehicleTheft  \n",
            "ViolentCrime                0.486185  \n",
            "Murder                      0.325736  \n",
            "Rape                        0.128174  \n",
            "Robbery                     0.502296  \n",
            "AggravatedAssault           0.413229  \n",
            "PropertyCrime               0.618916  \n",
            "Burglary                    0.446220  \n",
            "Theft                       0.510815  \n",
            "MotorVehicleTheft           1.000000  \n"
          ]
        },
        {
          "output_type": "display_data",
          "data": {
            "text/plain": [
              "<Figure size 1000x800 with 2 Axes>"
            ],
            "image/png": "[encoded data removed]"
          },
          "metadata": {}
        }
      ]
    }
  ]
}